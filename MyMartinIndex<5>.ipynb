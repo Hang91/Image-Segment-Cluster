{
 "cells": [
  {
   "cell_type": "code",
   "execution_count": 6,
   "metadata": {},
   "outputs": [],
   "source": [
    "import scipy.io as spio\n",
    "mat = spio.loadmat(\"ImsAndSegs/ImsAndTruths2092.mat\")"
   ]
  },
  {
   "cell_type": "code",
   "execution_count": 7,
   "metadata": {},
   "outputs": [
    {
     "data": {
      "text/plain": [
       "{'Im': array([[[ 94, 131, 173],\n",
       "         [ 93, 130, 172],\n",
       "         [ 93, 130, 172],\n",
       "         ..., \n",
       "         [ 66, 102, 136],\n",
       "         [ 18,  48,  76],\n",
       "         [  0,   5,  21]],\n",
       " \n",
       "        [[ 95, 132, 174],\n",
       "         [ 94, 131, 173],\n",
       "         [ 94, 131, 173],\n",
       "         ..., \n",
       "         [ 72, 108, 142],\n",
       "         [ 53,  83, 111],\n",
       "         [  0,   9,  25]],\n",
       " \n",
       "        [[ 94, 132, 171],\n",
       "         [ 94, 132, 171],\n",
       "         [ 94, 132, 171],\n",
       "         ..., \n",
       "         [ 61, 100, 131],\n",
       "         [ 64,  95, 123],\n",
       "         [  0,  14,  32]],\n",
       " \n",
       "        ..., \n",
       "        [[ 45,  48,  29],\n",
       "         [ 50,  55,  33],\n",
       "         [ 58,  63,  40],\n",
       "         ..., \n",
       "         [ 67,  61,  39],\n",
       "         [ 83,  78,  56],\n",
       "         [ 67,  66,  45]],\n",
       " \n",
       "        [[ 69,  74,  52],\n",
       "         [ 51,  56,  34],\n",
       "         [ 37,  42,  20],\n",
       "         ..., \n",
       "         [ 58,  52,  30],\n",
       "         [ 81,  76,  56],\n",
       "         [ 70,  69,  48]],\n",
       " \n",
       "        [[ 44,  52,  28],\n",
       "         [ 56,  64,  40],\n",
       "         [ 46,  54,  31],\n",
       "         ..., \n",
       "         [ 57,  51,  29],\n",
       "         [ 58,  53,  33],\n",
       "         [ 63,  62,  41]]], dtype=uint8),\n",
       " 'Seg1': array([[ 1,  1,  1, ...,  1,  1,  1],\n",
       "        [ 1,  1,  1, ...,  1,  1,  1],\n",
       "        [ 1,  1,  1, ...,  1,  1,  1],\n",
       "        ..., \n",
       "        [15, 15, 15, ..., 15, 15, 15],\n",
       "        [15, 15, 15, ..., 15, 15, 15],\n",
       "        [15, 15, 15, ..., 15, 15, 15]], dtype=uint16),\n",
       " 'Seg2': array([[ 1,  1,  1, ...,  1,  1,  1],\n",
       "        [ 1,  1,  1, ...,  1,  1,  1],\n",
       "        [ 1,  1,  1, ...,  1,  1,  1],\n",
       "        ..., \n",
       "        [10, 10, 10, ..., 10, 10, 10],\n",
       "        [10, 10, 10, ..., 10, 10, 10],\n",
       "        [10, 10, 10, ..., 10, 10, 10]], dtype=uint16),\n",
       " 'Seg3': array([[ 1,  1,  1, ...,  1,  1,  1],\n",
       "        [ 1,  1,  1, ...,  1,  1,  1],\n",
       "        [ 1,  1,  1, ...,  1,  1,  1],\n",
       "        ..., \n",
       "        [17, 17, 17, ..., 17, 17, 17],\n",
       "        [17, 17, 17, ..., 17, 17, 17],\n",
       "        [17, 17, 17, ..., 17, 17, 17]], dtype=uint16),\n",
       " '__globals__': [],\n",
       " '__header__': 'MATLAB 5.0 MAT-file, Platform: MACI64, Created on: Sat Mar 17 11:00:07 2018',\n",
       " '__version__': '1.0'}"
      ]
     },
     "execution_count": 7,
     "metadata": {},
     "output_type": "execute_result"
    }
   ],
   "source": [
    "mat"
   ]
  },
  {
   "cell_type": "code",
   "execution_count": null,
   "metadata": {
    "collapsed": true
   },
   "outputs": [],
   "source": []
  }
 ],
 "metadata": {
  "kernelspec": {
   "display_name": "Python 2",
   "language": "python",
   "name": "python2"
  },
  "language_info": {
   "codemirror_mode": {
    "name": "ipython",
    "version": 2
   },
   "file_extension": ".py",
   "mimetype": "text/x-python",
   "name": "python",
   "nbconvert_exporter": "python",
   "pygments_lexer": "ipython2",
   "version": "2.7.14"
  }
 },
 "nbformat": 4,
 "nbformat_minor": 2
}
